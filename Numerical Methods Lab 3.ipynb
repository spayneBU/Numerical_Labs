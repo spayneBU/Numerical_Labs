{
 "cells": [
  {
   "cell_type": "markdown",
   "metadata": {},
   "source": [
    "# Numerical Methods Lab 3\n",
    "Brian Johnston & Sheridan Payne"
   ]
  },
  {
   "cell_type": "markdown",
   "metadata": {},
   "source": [
    "1a."
   ]
  },
  {
   "cell_type": "code",
   "execution_count": 44,
   "metadata": {},
   "outputs": [],
   "source": [
    "f(x,a) = a*x*(1-x)"
   ]
  },
  {
   "cell_type": "code",
   "execution_count": 49,
   "metadata": {},
   "outputs": [
    {
     "data": {
      "text/plain": [
       "[x == (3/5), x == 0]"
      ]
     },
     "execution_count": 49,
     "metadata": {},
     "output_type": "execute_result"
    }
   ],
   "source": [
    "solve(f(x,2.5)==x,x)"
   ]
  },
  {
   "cell_type": "code",
   "execution_count": 50,
   "metadata": {},
   "outputs": [
    {
     "data": {
      "text/plain": [
       "[x == (11/16), x == 0]"
      ]
     },
     "execution_count": 50,
     "metadata": {},
     "output_type": "execute_result"
    }
   ],
   "source": [
    "solve(f(x,3.2)==x,x)"
   ]
  },
  {
   "cell_type": "code",
   "execution_count": 51,
   "metadata": {},
   "outputs": [
    {
     "data": {
      "text/plain": [
       "[x == (2833/3833), x == 0]"
      ]
     },
     "execution_count": 51,
     "metadata": {},
     "output_type": "execute_result"
    }
   ],
   "source": [
    "solve(f(x,3.833)==x,x)"
   ]
  },
  {
   "cell_type": "code",
   "execution_count": 52,
   "metadata": {},
   "outputs": [
    {
     "data": {
      "text/plain": [
       "[x == (3/4), x == 0]"
      ]
     },
     "execution_count": 52,
     "metadata": {},
     "output_type": "execute_result"
    }
   ],
   "source": [
    "solve(f(x,4)==x,x)"
   ]
  },
  {
   "cell_type": "markdown",
   "metadata": {},
   "source": [
    "1b."
   ]
  },
  {
   "cell_type": "code",
   "execution_count": 53,
   "metadata": {},
   "outputs": [],
   "source": [
    "x0=0.1\n",
    "for i in srange(1,975):\n",
    "    x = f(x0,2.5)\n",
    "    x0 = x\n",
    "\n",
    "x0=0.1\n",
    "for i in srange(1,975):\n",
    "    x = f(x0,3.2)\n",
    "    x0 = x\n",
    "    \n",
    "x0=0.1\n",
    "for i in srange(1,975):\n",
    "    x = f(x0,3.833)\n",
    "    x0 = x\n",
    "    \n",
    "x0=0.1\n",
    "for i in srange(1,975):\n",
    "    x = f(x0,4)\n",
    "    x0 = x"
   ]
  },
  {
   "cell_type": "markdown",
   "metadata": {},
   "source": [
    "1c."
   ]
  },
  {
   "cell_type": "code",
   "execution_count": 54,
   "metadata": {
    "scrolled": false
   },
   "outputs": [
    {
     "name": "stdout",
     "output_type": "stream",
     "text": [
      "975 0.521418884292741\n",
      "976 0.623853078489136\n",
      "977 0.586651037371910\n",
      "978 0.606228994305930\n",
      "979 0.596788501921877\n",
      "980 0.601579964739297\n",
      "981 0.599203776908908\n",
      "982 0.600396526617519\n",
      "983 0.599801343607844\n",
      "984 0.600099229535172\n",
      "985 0.599950360616162\n",
      "986 0.600024813531748\n",
      "987 0.599987591694848\n",
      "988 0.600006203767661\n",
      "989 0.599996898019953\n",
      "990 0.600001550965968\n",
      "991 0.599999224511002\n",
      "992 0.600000387742995\n",
      "993 0.599999806128127\n",
      "994 0.600000096935843\n",
      "995 0.599999951532055\n",
      "996 0.600000024233967\n",
      "997 0.599999987883015\n",
      "998 0.600000006058492\n",
      "999 0.599999996970754\n",
      "1000 0.600000001514623\n"
     ]
    }
   ],
   "source": [
    "for i in srange(975,1001):\n",
    "    x = f(x0,2.5)\n",
    "    print(i,x)\n",
    "    x0 = x"
   ]
  },
  {
   "cell_type": "code",
   "execution_count": 55,
   "metadata": {},
   "outputs": [
    {
     "name": "stdout",
     "output_type": "stream",
     "text": [
      "975 0.767999999030641\n",
      "976 0.570163201662644\n",
      "977 0.784246800423831\n",
      "978 0.541452020636208\n",
      "979 0.794501535952561\n",
      "980 0.522460305029063\n",
      "981 0.798385711033605\n",
      "982 0.515091095843105\n",
      "983 0.799271228244014\n",
      "984 0.513397542225023\n",
      "985 0.799425618759452\n",
      "986 0.513101756257662\n",
      "987 0.799450700745488\n",
      "988 0.513053689033717\n",
      "989 0.799454723848355\n",
      "990 0.513045978767697\n",
      "991 0.799455367801577\n",
      "992 0.513044744623431\n",
      "993 0.799455470840670\n",
      "994 0.513044547147496\n",
      "995 0.799455487327094\n",
      "996 0.513044515551017\n",
      "997 0.799455489964926\n",
      "998 0.513044510495572\n",
      "999 0.799455490386979\n",
      "1000 0.513044509686701\n"
     ]
    }
   ],
   "source": [
    "for i in srange(975,1001):\n",
    "    x = f(x0,3.2)\n",
    "    print(i,x)\n",
    "    x0 = x"
   ]
  },
  {
   "cell_type": "code",
   "execution_count": 56,
   "metadata": {
    "scrolled": false
   },
   "outputs": [
    {
     "name": "stdout",
     "output_type": "stream",
     "text": [
      "975 0.957597779660040\n",
      "976 0.155636174768423\n",
      "977 0.503708159656900\n",
      "978 0.958197294532659\n",
      "979 0.153531732171555\n",
      "980 0.498135681074039\n",
      "981 0.958236677699174\n",
      "982 0.153393391260620\n",
      "983 0.497768170696787\n",
      "984 0.958230907589206\n",
      "985 0.153413660619785\n",
      "986 0.497822026557802\n",
      "987 0.958231817902649\n",
      "988 0.153410462869241\n",
      "989 0.497813530316448\n",
      "990 0.958231675769788\n",
      "991 0.153410962154206\n",
      "992 0.497814856893372\n",
      "993 0.958231697998431\n",
      "994 0.153410884069338\n",
      "995 0.497814649425636\n",
      "996 0.958231694522910\n",
      "997 0.153410896278162\n",
      "998 0.497814681863895\n",
      "999 0.958231695066340\n",
      "1000 0.153410894369197\n"
     ]
    }
   ],
   "source": [
    "for i in srange(975,1001):\n",
    "    x = f(x0,3.833)\n",
    "    print(i,x)\n",
    "    x0 = x"
   ]
  },
  {
   "cell_type": "code",
   "execution_count": 57,
   "metadata": {},
   "outputs": [
    {
     "name": "stdout",
     "output_type": "stream",
     "text": [
      "975 0.519503967432159\n",
      "976 0.998478381017621\n",
      "977 0.00607721463220547\n",
      "978 0.0241611283780783\n",
      "979 0.0943094730143053\n",
      "980 0.341660785256277\n",
      "981 0.899714772297365\n",
      "982 0.360912403229062\n",
      "983 0.922618561697940\n",
      "984 0.285574205233457\n",
      "985 0.816086314154946\n",
      "986 0.600357768015763\n",
      "987 0.959713273595577\n",
      "988 0.154654824320153\n",
      "989 0.522946838538623\n",
      "990 0.997893770404330\n",
      "991 0.00840717357024296\n",
      "992 0.0333459720112111\n",
      "993 0.128936072647354\n",
      "994 0.449246247270522\n",
      "995 0.989696226335500\n",
      "996 0.0407904236510829\n",
      "997 0.156506259957792\n",
      "998 0.528048202207265\n",
      "999 0.996853193411761\n",
      "1000 0.0125476167861389\n"
     ]
    }
   ],
   "source": [
    "for i in srange(975,1001):\n",
    "    x = f(x0,4)\n",
    "    print(i,x)\n",
    "    x0 = x"
   ]
  },
  {
   "cell_type": "markdown",
   "metadata": {},
   "source": [
    "1d.\n",
    "For a=2.5, the iterations are oscillating around 0.6\n",
    "For a=3.2, the iterations are approaching two values, 0.8 and 0.51\n",
    "For a=3.833, the iterations are appraching three values.\n",
    "For a=4, the iterations do not have a pattern as they are going all over the place."
   ]
  },
  {
   "cell_type": "code",
   "execution_count": 59,
   "metadata": {},
   "outputs": [
    {
     "name": "stdout",
     "output_type": "stream",
     "text": [
      "975 0.485752471616936\n",
      "976 0.861799677375660\n",
      "977 0.410898427405497\n",
      "978 0.835110138676093\n",
      "979 0.475069122599889\n",
      "980 0.860355657164609\n",
      "981 0.414496111205646\n",
      "982 0.837277343253597\n",
      "983 0.470041778360893\n",
      "984 0.859403642098966\n",
      "985 0.416860126058693\n",
      "986 0.838652776695532\n",
      "987 0.466834324085602\n",
      "988 0.858705130896937\n",
      "989 0.418590670285330\n",
      "990 0.839635197572158\n",
      "991 0.464535367366918\n",
      "992 0.858160796421092\n",
      "993 0.419936911479181\n",
      "994 0.840385161404951\n",
      "995 0.462775899538872\n",
      "996 0.857719563889767\n",
      "997 0.421026661956277\n",
      "998 0.840983080979900\n",
      "999 0.461370357774820\n",
      "1000 0.857351740058363\n"
     ]
    }
   ],
   "source": [
    "for i in srange(975,1001):\n",
    "    x = f(x0,3.45)\n",
    "    print(i,x)\n",
    "    x0 = x"
   ]
  },
  {
   "cell_type": "markdown",
   "metadata": {},
   "source": [
    "2a."
   ]
  },
  {
   "cell_type": "code",
   "execution_count": 75,
   "metadata": {},
   "outputs": [],
   "source": [
    "w(x)=2^(sin(x))-3^(cos(x))+x"
   ]
  },
  {
   "cell_type": "code",
   "execution_count": 76,
   "metadata": {},
   "outputs": [
    {
     "name": "stdout",
     "output_type": "stream",
     "text": [
      "1 0.812697925494457\n",
      "2 0.338571488592629\n",
      "3 -1.22116005824563\n",
      "4 -2.15668263936307\n",
      "5 -2.14013867076466\n"
     ]
    }
   ],
   "source": [
    "x0=0.95\n",
    "for i in srange(1,6):\n",
    "    x = w(x0)\n",
    "    print(i,x)\n",
    "    x0 = x"
   ]
  },
  {
   "cell_type": "markdown",
   "metadata": {},
   "source": [
    "The distance between each iteration seems to be decreasing implying the method will converge."
   ]
  },
  {
   "cell_type": "markdown",
   "metadata": {},
   "source": [
    "2b."
   ]
  },
  {
   "cell_type": "code",
   "execution_count": 77,
   "metadata": {},
   "outputs": [],
   "source": [
    "def fp(x0,f,tol,N):\n",
    "    for j in srange(1,N,include_endpoint=True):\n",
    "        x=f(x0)\n",
    "        #print(j,x)\n",
    "        if abs(x-x0)<=tol:\n",
    "            return(float(x))\n",
    "            break\n",
    "        else:\n",
    "            x0=x\n",
    "    print('Method failed. Maximum iterations exceeded.')"
   ]
  },
  {
   "cell_type": "code",
   "execution_count": 78,
   "metadata": {},
   "outputs": [
    {
     "data": {
      "text/plain": [
       "-2.1336590673517004"
      ]
     },
     "execution_count": 78,
     "metadata": {},
     "output_type": "execute_result"
    }
   ],
   "source": [
    "fp(0.95,w,0.0001,20)"
   ]
  },
  {
   "cell_type": "markdown",
   "metadata": {},
   "source": [
    "2c."
   ]
  },
  {
   "cell_type": "code",
   "execution_count": 79,
   "metadata": {},
   "outputs": [],
   "source": [
    "y(x)=x"
   ]
  },
  {
   "cell_type": "code",
   "execution_count": 80,
   "metadata": {},
   "outputs": [
    {
     "data": {
      "image/png": "[encoded data removed]",
      "text/plain": [
       "Graphics object consisting of 2 graphics primitives"
      ]
     },
     "execution_count": 80,
     "metadata": {},
     "output_type": "execute_result"
    }
   ],
   "source": [
    "plot([w(x),y],[-2.3,1.2],gridlines='minor',legend_label='automatic')"
   ]
  },
  {
   "cell_type": "markdown",
   "metadata": {},
   "source": [
    "2d. When looking at the graph, we see that w(x) lies below y=x. Thus, any input into w(x) will return a lesser value than was inputted."
   ]
  },
  {
   "cell_type": "code",
   "execution_count": null,
   "metadata": {},
   "outputs": [],
   "source": []
  }
 ],
 "metadata": {
  "kernelspec": {
   "display_name": "SageMath 9.1",
   "language": "sage",
   "name": "sagemath"
  },
  "language_info": {
   "codemirror_mode": {
    "name": "ipython",
    "version": 3
   },
   "file_extension": ".py",
   "mimetype": "text/x-python",
   "name": "python",
   "nbconvert_exporter": "python",
   "pygments_lexer": "ipython3",
   "version": "3.7.3"
  }
 },
 "nbformat": 4,
 "nbformat_minor": 2
}
