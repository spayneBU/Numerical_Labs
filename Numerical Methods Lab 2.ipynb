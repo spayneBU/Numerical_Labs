{
 "cells": [
  {
   "cell_type": "markdown",
   "metadata": {},
   "source": [
    "# Numerical Methods Lab 2\n",
    "Brian Johnston & Sheridan Payne"
   ]
  },
  {
   "cell_type": "markdown",
   "metadata": {},
   "source": [
    "1a."
   ]
  },
  {
   "cell_type": "code",
   "execution_count": 30,
   "metadata": {},
   "outputs": [
    {
     "name": "stdout",
     "output_type": "stream",
     "text": [
      "0 1\n",
      "1 5\n",
      "2 25\n",
      "3 125\n",
      "4 625\n",
      "5 3125\n",
      "6 15625\n",
      "7 78125\n",
      "8 390625\n"
     ]
    }
   ],
   "source": [
    "for n in srange(0,9):\n",
    "    print(n,5^n)"
   ]
  },
  {
   "cell_type": "markdown",
   "metadata": {},
   "source": [
    "1b."
   ]
  },
  {
   "cell_type": "code",
   "execution_count": 31,
   "metadata": {},
   "outputs": [
    {
     "name": "stdout",
     "output_type": "stream",
     "text": [
      "20000 1.999850016872891\n",
      "2 1.2649110640673518\n",
      "100 1.9706585563285863\n",
      "5 1.5811388300841895\n",
      "1000 1.9970067331691777\n",
      "10 1.7541160386140586\n"
     ]
    }
   ],
   "source": [
    "for n in Set((2,5,10,100,1000,20000)):\n",
    "    print(n,(2*n)/math.sqrt(n^2 + 3*n))"
   ]
  },
  {
   "cell_type": "markdown",
   "metadata": {},
   "source": [
    "2a."
   ]
  },
  {
   "cell_type": "code",
   "execution_count": 32,
   "metadata": {},
   "outputs": [],
   "source": [
    "def F(n):\n",
    "    if n==0:\n",
    "        return 1\n",
    "    elif n==1:\n",
    "        return 1\n",
    "    else:\n",
    "        return F(n-1)+F(n-2)"
   ]
  },
  {
   "cell_type": "code",
   "execution_count": 33,
   "metadata": {},
   "outputs": [
    {
     "name": "stdout",
     "output_type": "stream",
     "text": [
      "2 2\n",
      "3 3\n",
      "4 5\n",
      "5 8\n",
      "6 13\n",
      "7 21\n",
      "8 34\n",
      "9 55\n"
     ]
    }
   ],
   "source": [
    "for n in srange(2,10):\n",
    "    print(n,F(n))"
   ]
  },
  {
   "cell_type": "markdown",
   "metadata": {},
   "source": [
    "2b."
   ]
  },
  {
   "cell_type": "code",
   "execution_count": 34,
   "metadata": {},
   "outputs": [
    {
     "name": "stdout",
     "output_type": "stream",
     "text": [
      "12 233\n",
      "14 610\n",
      "16 1597\n",
      "18 4181\n"
     ]
    }
   ],
   "source": [
    "for n in srange(12,19,2):\n",
    "    print(n,F(n))"
   ]
  },
  {
   "cell_type": "markdown",
   "metadata": {},
   "source": [
    "2c."
   ]
  },
  {
   "cell_type": "code",
   "execution_count": 37,
   "metadata": {},
   "outputs": [
    {
     "name": "stdout",
     "output_type": "stream",
     "text": [
      "30 1346269\n"
     ]
    }
   ],
   "source": [
    "print(30,F(30))"
   ]
  },
  {
   "cell_type": "markdown",
   "metadata": {},
   "source": [
    "3a."
   ]
  },
  {
   "cell_type": "code",
   "execution_count": 28,
   "metadata": {},
   "outputs": [],
   "source": [
    "g(x)=sin(x)-x^2"
   ]
  },
  {
   "cell_type": "markdown",
   "metadata": {},
   "source": [
    "Since it's a polynomial, the function is continuous. Then look at g(0.5) and g(1). g(0.5)= ~.229425... ; g(1) = -.15852...\n",
    "Thus, using IVT, we know that g(x) has a root on the interval [.5,1]"
   ]
  },
  {
   "cell_type": "markdown",
   "metadata": {},
   "source": [
    "3b."
   ]
  },
  {
   "cell_type": "code",
   "execution_count": 24,
   "metadata": {},
   "outputs": [],
   "source": [
    "def BiM(a,b,f,tol,N):\n",
    "    maxErr=abs(b-a)   #initial maximum error\n",
    "    L=f(a)\n",
    "    for j in srange(1,N+1):\n",
    "        m=(a+b)/2    #midpoint of the interval\n",
    "        M=f(m)       #value of f at the midpoint\n",
    "        maxErr=maxErr/2\n",
    "        if M==0 or abs(M)<tol or j==N: #stopping condition\n",
    "            print('Maximum error = ',maxErr)\n",
    "            print('m=',m)\n",
    "            print('f(m)=',float(M))\n",
    "            print(\"(\",a,\",\",b,\")\")\n",
    "            return m\n",
    "            break\n",
    "            #this next part chooses which interval endpoint to replace\n",
    "        if L*M<0:\n",
    "            b=m\n",
    "        else: \n",
    "            a=m\n",
    "            L=M\n",
    "    print('Method failed. Maximum iterations exceeded.')"
   ]
  },
  {
   "cell_type": "code",
   "execution_count": 39,
   "metadata": {},
   "outputs": [
    {
     "name": "stdout",
     "output_type": "stream",
     "text": [
      "Maximum error =  1/32\n",
      "m= 29/32\n",
      "f(m)= -0.03409241516805106\n"
     ]
    },
    {
     "data": {
      "text/plain": [
       "29/32"
      ]
     },
     "execution_count": 39,
     "metadata": {},
     "output_type": "execute_result"
    }
   ],
   "source": [
    "BiM(1/2,1,g,0.00001,4)"
   ]
  },
  {
   "cell_type": "markdown",
   "metadata": {},
   "source": [
    "P4 = 29/32"
   ]
  },
  {
   "cell_type": "markdown",
   "metadata": {},
   "source": [
    "3c."
   ]
  },
  {
   "cell_type": "code",
   "execution_count": 41,
   "metadata": {},
   "outputs": [
    {
     "name": "stdout",
     "output_type": "stream",
     "text": [
      "Maximum error =  1/4096\n",
      "m= 3591/4096\n",
      "f(m)= 1.9191179879696207e-05\n"
     ]
    },
    {
     "data": {
      "text/plain": [
       "3591/4096"
      ]
     },
     "execution_count": 41,
     "metadata": {},
     "output_type": "execute_result"
    }
   ],
   "source": [
    "BiM(1/2,1,g,0.0001,25)"
   ]
  },
  {
   "cell_type": "code",
   "execution_count": 43,
   "metadata": {},
   "outputs": [
    {
     "data": {
      "text/plain": [
       "11"
      ]
     },
     "execution_count": 43,
     "metadata": {},
     "output_type": "execute_result"
    }
   ],
   "source": [
    "log(4096,2)-1"
   ]
  },
  {
   "cell_type": "markdown",
   "metadata": {},
   "source": [
    "Max number of iterations = 11"
   ]
  },
  {
   "cell_type": "markdown",
   "metadata": {},
   "source": [
    "3d."
   ]
  },
  {
   "cell_type": "code",
   "execution_count": 44,
   "metadata": {},
   "outputs": [
    {
     "name": "stdout",
     "output_type": "stream",
     "text": [
      "Maximum error =  1/4096\n",
      "m= 3591/4096\n",
      "f(m)= 1.9191179879696207e-05\n"
     ]
    },
    {
     "data": {
      "text/plain": [
       "3591/4096"
      ]
     },
     "execution_count": 44,
     "metadata": {},
     "output_type": "execute_result"
    }
   ],
   "source": [
    "BiM(1/2,1,g,0.0001,25)"
   ]
  },
  {
   "cell_type": "markdown",
   "metadata": {},
   "source": [
    "Root = 3591/4096"
   ]
  },
  {
   "cell_type": "markdown",
   "metadata": {},
   "source": [
    "4."
   ]
  },
  {
   "cell_type": "code",
   "execution_count": 46,
   "metadata": {},
   "outputs": [
    {
     "name": "stdout",
     "output_type": "stream",
     "text": [
      "f(x) = (x - 1)^2\n"
     ]
    }
   ],
   "source": [
    "f(x)=(x-1)^2\n",
    "print('f(x) =',f(x))"
   ]
  },
  {
   "cell_type": "markdown",
   "metadata": {},
   "source": [
    "The function is a double-root function and never goes negative."
   ]
  },
  {
   "cell_type": "markdown",
   "metadata": {},
   "source": [
    "5."
   ]
  },
  {
   "cell_type": "code",
   "execution_count": 28,
   "metadata": {},
   "outputs": [
    {
     "data": {
      "text/plain": [
       "[r == -1/5*(e^(20*r) - 1)/(e^(20*r) - 10)]"
      ]
     },
     "execution_count": 28,
     "metadata": {},
     "output_type": "execute_result"
    }
   ],
   "source": [
    "var('r')\n",
    "f(r) = (50000+(10000/r))*exp(20*r)-(10000/r)-500000\n",
    "solve(f,r)"
   ]
  },
  {
   "cell_type": "code",
   "execution_count": 25,
   "metadata": {},
   "outputs": [
    {
     "name": "stdout",
     "output_type": "stream",
     "text": [
      "Maximum error =  2.27373673169495e-13\n",
      "m= 0.0529663493202817\n",
      "f(m)= -5.672918632626534e-07\n",
      "( 0.0529663493200544 , 0.0529663493205091 )\n"
     ]
    },
    {
     "data": {
      "text/plain": [
       "0.0529663493202817"
      ]
     },
     "execution_count": 25,
     "metadata": {},
     "output_type": "execute_result"
    }
   ],
   "source": [
    "BiM(0.00000001,1,f,0.000001,5000)"
   ]
  },
  {
   "cell_type": "markdown",
   "metadata": {},
   "source": [
    "Reasonable interval: ( 0.0529663493200544 , 0.0529663493205091 )"
   ]
  },
  {
   "cell_type": "code",
   "execution_count": null,
   "metadata": {},
   "outputs": [],
   "source": []
  }
 ],
 "metadata": {
  "kernelspec": {
   "display_name": "Python 3",
   "language": "python",
   "name": "python3"
  },
  "language_info": {
   "codemirror_mode": {
    "name": "ipython",
    "version": 3
   },
   "file_extension": ".py",
   "mimetype": "text/x-python",
   "name": "python",
   "nbconvert_exporter": "python",
   "pygments_lexer": "ipython3",
   "version": "3.8.3"
  }
 },
 "nbformat": 4,
 "nbformat_minor": 2
}
